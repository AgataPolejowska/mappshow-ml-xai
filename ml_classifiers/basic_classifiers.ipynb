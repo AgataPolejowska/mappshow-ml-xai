{
 "cells": [
  {
   "attachments": {},
   "cell_type": "markdown",
   "metadata": {},
   "source": [
    "## Basic machine learning classifiers performance comparison"
   ]
  },
  {
   "cell_type": "code",
   "execution_count": 1,
   "metadata": {},
   "outputs": [
    {
     "name": "stdout",
     "output_type": "stream",
     "text": [
      "<class 'pandas.core.frame.DataFrame'>\n",
      "RangeIndex: 106982 entries, 0 to 106981\n",
      "Data columns (total 11 columns):\n",
      " #   Column                Non-Null Count   Dtype\n",
      "---  ------                --------------   -----\n",
      " 0   Gender                106982 non-null  int64\n",
      " 1   Hypertension          106982 non-null  int64\n",
      " 2   Diabetes              106982 non-null  int64\n",
      " 3   Alcoholism            106982 non-null  int64\n",
      " 4   Handicap              106982 non-null  int64\n",
      " 5   SMS_received          106982 non-null  int64\n",
      " 6   Show                  106982 non-null  int64\n",
      " 7   AppointmentMonth      106982 non-null  int64\n",
      " 8   AppointmentDayOfWeek  106982 non-null  int64\n",
      " 9   AgeGroupInt           106982 non-null  int64\n",
      " 10  AwaitingTimeGroup     106982 non-null  int64\n",
      "dtypes: int64(11)\n",
      "memory usage: 9.0 MB\n"
     ]
    }
   ],
   "source": [
    "import pandas as pd\n",
    "\n",
    "from sklearn.metrics import accuracy_score, f1_score, recall_score, precision_score\n",
    "from sklearn.model_selection import train_test_split\n",
    "from sklearn.neighbors import KNeighborsClassifier\n",
    "from sklearn.tree import DecisionTreeClassifier\n",
    "from sklearn.cluster import KMeans\n",
    "from sklearn.neural_network import MLPClassifier\n",
    "from sklearn.svm import SVC\n",
    "from sklearn.naive_bayes import GaussianNB\n",
    "from sklearn.linear_model import LogisticRegression\n",
    "\n",
    "from imblearn.under_sampling import InstanceHardnessThreshold\n",
    "\n",
    "from yellowbrick.model_selection import FeatureImportances\n",
    "\n",
    "import matplotlib.pyplot as plt\n",
    "import seaborn as sns\n",
    "\n",
    "\n",
    "df = pd.read_csv('../data/cleaned_data_general_final.csv')\n",
    "df.info()"
   ]
  },
  {
   "cell_type": "code",
   "execution_count": 2,
   "metadata": {},
   "outputs": [],
   "source": [
    "X = df.drop(['Show'], axis=1)\n",
    "y = df['Show']\n",
    "\n",
    "iht = InstanceHardnessThreshold(random_state=42)\n",
    "X_res, y_res = iht.fit_resample(X, y)"
   ]
  },
  {
   "cell_type": "code",
   "execution_count": 3,
   "metadata": {},
   "outputs": [],
   "source": [
    "X_train, X_test, y_train, y_test = train_test_split(X_res, y_res, test_size=0.3, random_state=42)"
   ]
  },
  {
   "cell_type": "code",
   "execution_count": 4,
   "metadata": {},
   "outputs": [
    {
     "name": "stdout",
     "output_type": "stream",
     "text": [
      "Accuracy:  0.8695418204182042\n",
      "F1:  0.8779926666187361\n",
      "Recall:  0.9383740587060089\n",
      "Precision:  0.8249121858957038\n"
     ]
    }
   ],
   "source": [
    "nb_clf = GaussianNB()\n",
    "\n",
    "nb_clf.fit(X_train, y_train)\n",
    "\n",
    "nb_pred = nb_clf.predict(X_test)\n",
    "\n",
    "print('Accuracy: ', accuracy_score(y_test, nb_pred))\n",
    "print('F1: ', f1_score(y_test, nb_pred))\n",
    "print('Recall: ', recall_score(y_test, nb_pred))\n",
    "print('Precision: ', precision_score(y_test, nb_pred))"
   ]
  },
  {
   "cell_type": "code",
   "execution_count": 5,
   "metadata": {},
   "outputs": [
    {
     "name": "stdout",
     "output_type": "stream",
     "text": [
      "Accuracy:  0.8849938499384994\n",
      "F1:  0.8900485080111715\n",
      "Recall:  0.9305363454741048\n",
      "Precision:  0.8529370333849838\n"
     ]
    }
   ],
   "source": [
    "lr_clf = LogisticRegression()\n",
    "\n",
    "lr_clf.fit(X_train, y_train)\n",
    "\n",
    "lr_pred = lr_clf.predict(X_test)\n",
    "\n",
    "print('Accuracy: ', accuracy_score(y_test, lr_pred))\n",
    "print('F1: ', f1_score(y_test, lr_pred))\n",
    "print('Recall: ', recall_score(y_test, lr_pred))\n",
    "print('Precision: ', precision_score(y_test, lr_pred))"
   ]
  },
  {
   "cell_type": "code",
   "execution_count": 6,
   "metadata": {},
   "outputs": [
    {
     "name": "stdout",
     "output_type": "stream",
     "text": [
      "Accuracy:  0.8906057810578106\n",
      "F1:  0.8930798707641446\n",
      "Recall:  0.913324112494237\n",
      "Precision:  0.8737136136430461\n"
     ]
    }
   ],
   "source": [
    "svc_clf = SVC()\n",
    "\n",
    "svc_clf.fit(X_train, y_train)\n",
    "\n",
    "svc_pred = svc_clf.predict(X_test)\n",
    "\n",
    "print('Accuracy: ', accuracy_score(y_test, svc_pred))\n",
    "print('F1: ', f1_score(y_test, svc_pred))\n",
    "print('Recall: ', recall_score(y_test, svc_pred))\n",
    "print('Precision: ', precision_score(y_test, svc_pred))"
   ]
  },
  {
   "cell_type": "code",
   "execution_count": 7,
   "metadata": {},
   "outputs": [
    {
     "name": "stdout",
     "output_type": "stream",
     "text": [
      "Accuracy:  0.9247386223862238\n",
      "F1:  0.9267818412983321\n",
      "Recall:  0.9522053173505456\n",
      "Precision:  0.9026806526806527\n"
     ]
    },
    {
     "name": "stderr",
     "output_type": "stream",
     "text": [
      "/opt/miniconda3/envs/lmappshow/lib/python3.9/site-packages/sklearn/neural_network/_multilayer_perceptron.py:686: ConvergenceWarning: Stochastic Optimizer: Maximum iterations (500) reached and the optimization hasn't converged yet.\n",
      "  warnings.warn(\n"
     ]
    }
   ],
   "source": [
    "mlp = MLPClassifier(\n",
    "    hidden_layer_sizes=(100, 100, 100),\n",
    "    max_iter=500,\n",
    "    alpha=0.0001,\n",
    "    solver='sgd',\n",
    "    random_state=21,\n",
    "    tol=0.000000001\n",
    ")\n",
    "\n",
    "mlp.fit(X_train, y_train)\n",
    "predictions = mlp.predict(X_test)\n",
    "\n",
    "print(\"Accuracy: \", accuracy_score(y_test, predictions))\n",
    "print(\"F1: \", f1_score(y_test, predictions))\n",
    "print(\"Recall: \", recall_score(y_test, predictions))\n",
    "print(\"Precision: \", precision_score(y_test, predictions))"
   ]
  },
  {
   "cell_type": "code",
   "execution_count": 8,
   "metadata": {},
   "outputs": [
    {
     "name": "stdout",
     "output_type": "stream",
     "text": [
      "Accuracy:  0.4280442804428044\n",
      "F1:  0.4397590361445783\n",
      "Recall:  0.4487475026894114\n",
      "Precision:  0.4311235789162853\n"
     ]
    },
    {
     "name": "stderr",
     "output_type": "stream",
     "text": [
      "/opt/miniconda3/envs/lmappshow/lib/python3.9/site-packages/sklearn/cluster/_kmeans.py:870: FutureWarning: The default value of `n_init` will change from 10 to 'auto' in 1.4. Set the value of `n_init` explicitly to suppress the warning\n",
      "  warnings.warn(\n"
     ]
    }
   ],
   "source": [
    "kmeans_cls = KMeans(n_clusters=2, random_state=42)\n",
    "\n",
    "kmeans_cls.fit(X_train, y_train)\n",
    "\n",
    "kmeans_pred = kmeans_cls.predict(X_test)\n",
    "\n",
    "print('Accuracy: ', accuracy_score(y_test, kmeans_pred))\n",
    "print('F1: ', f1_score(y_test, kmeans_pred))\n",
    "print('Recall: ', recall_score(y_test, kmeans_pred))\n",
    "print('Precision: ', precision_score(y_test, kmeans_pred))"
   ]
  },
  {
   "cell_type": "code",
   "execution_count": 9,
   "metadata": {},
   "outputs": [
    {
     "name": "stdout",
     "output_type": "stream",
     "text": [
      "Accuracy Score:  0.9411131611316114\n",
      "F1 Score:  0.9423279626562264\n",
      "Recall Score:  0.9617335177501153\n",
      "Precision Score:  0.923690036900369\n"
     ]
    }
   ],
   "source": [
    "knn_cls = KNeighborsClassifier(n_neighbors=5)\n",
    "knn_cls.fit(X_train, y_train)\n",
    "\n",
    "knn_pred = knn_cls.predict(X_test)\n",
    "\n",
    "print('Accuracy Score: ', accuracy_score(y_test, knn_pred))\n",
    "print('F1 Score: ', f1_score(y_test, knn_pred))\n",
    "print('Recall Score: ', recall_score(y_test, knn_pred))\n",
    "print('Precision Score: ', precision_score(y_test, knn_pred))"
   ]
  },
  {
   "cell_type": "code",
   "execution_count": 10,
   "metadata": {},
   "outputs": [
    {
     "name": "stdout",
     "output_type": "stream",
     "text": [
      "Accuracy Score:  0.9466482164821648\n",
      "F1 Score:  0.9481237853191807\n",
      "Recall Score:  0.9746426924850161\n",
      "Precision Score:  0.9230097511279289\n"
     ]
    }
   ],
   "source": [
    "dt_cls = DecisionTreeClassifier(random_state=42)\n",
    "dt_cls.fit(X_train, y_train)\n",
    "\n",
    "dt_pred = dt_cls.predict(X_test)\n",
    "\n",
    "print('Accuracy Score: ', accuracy_score(y_test, dt_pred))\n",
    "print('F1 Score: ', f1_score(y_test, dt_pred))\n",
    "print('Recall Score: ', recall_score(y_test, dt_pred))\n",
    "print('Precision Score: ', precision_score(y_test, dt_pred))"
   ]
  },
  {
   "cell_type": "code",
   "execution_count": 11,
   "metadata": {},
   "outputs": [
    {
     "name": "stderr",
     "output_type": "stream",
     "text": [
      "/opt/miniconda3/envs/lmappshow/lib/python3.9/site-packages/sklearn/base.py:439: UserWarning: X does not have valid feature names, but DecisionTreeClassifier was fitted with feature names\n",
      "  warnings.warn(\n"
     ]
    },
    {
     "data": {
      "image/png": "[encoded data removed]",
      "text/plain": [
       "<Figure size 1080x720 with 1 Axes>"
      ]
     },
     "metadata": {},
     "output_type": "display_data"
    },
    {
     "data": {
      "text/plain": [
       "<Axes: title={'center': 'Feature Importances of 10 Features using DecisionTreeClassifier'}, xlabel='feature importance'>"
      ]
     },
     "execution_count": 11,
     "metadata": {},
     "output_type": "execute_result"
    }
   ],
   "source": [
    "viz = FeatureImportances(\n",
    "    dt_cls,\n",
    "    size=(1080, 720),\n",
    "    max_num_features=10,\n",
    "    relative=False,\n",
    "    colormap='Blues',\n",
    ")\n",
    "viz.fit(X_train, y_train)\n",
    "viz.show()"
   ]
  },
  {
   "cell_type": "code",
   "execution_count": 12,
   "metadata": {},
   "outputs": [
    {
     "data": {
      "text/html": [
       "<div>\n",
       "<style scoped>\n",
       "    .dataframe tbody tr th:only-of-type {\n",
       "        vertical-align: middle;\n",
       "    }\n",
       "\n",
       "    .dataframe tbody tr th {\n",
       "        vertical-align: top;\n",
       "    }\n",
       "\n",
       "    .dataframe thead th {\n",
       "        text-align: right;\n",
       "    }\n",
       "</style>\n",
       "<table border=\"1\" class=\"dataframe\">\n",
       "  <thead>\n",
       "    <tr style=\"text-align: right;\">\n",
       "      <th></th>\n",
       "      <th>Model</th>\n",
       "      <th>F1 score</th>\n",
       "      <th>Recall score</th>\n",
       "      <th>Precision score</th>\n",
       "      <th>Accuracy score</th>\n",
       "    </tr>\n",
       "  </thead>\n",
       "  <tbody>\n",
       "    <tr>\n",
       "      <th>4</th>\n",
       "      <td>Decision Tree</td>\n",
       "      <td>0.948124</td>\n",
       "      <td>0.974643</td>\n",
       "      <td>0.923010</td>\n",
       "      <td>0.946648</td>\n",
       "    </tr>\n",
       "    <tr>\n",
       "      <th>0</th>\n",
       "      <td>KNN</td>\n",
       "      <td>0.942328</td>\n",
       "      <td>0.961734</td>\n",
       "      <td>0.923690</td>\n",
       "      <td>0.941113</td>\n",
       "    </tr>\n",
       "    <tr>\n",
       "      <th>6</th>\n",
       "      <td>MLP</td>\n",
       "      <td>0.926782</td>\n",
       "      <td>0.952205</td>\n",
       "      <td>0.902681</td>\n",
       "      <td>0.924739</td>\n",
       "    </tr>\n",
       "    <tr>\n",
       "      <th>2</th>\n",
       "      <td>Support Vector Machines</td>\n",
       "      <td>0.893080</td>\n",
       "      <td>0.913324</td>\n",
       "      <td>0.873714</td>\n",
       "      <td>0.890606</td>\n",
       "    </tr>\n",
       "    <tr>\n",
       "      <th>1</th>\n",
       "      <td>Logistic Regression</td>\n",
       "      <td>0.890049</td>\n",
       "      <td>0.930536</td>\n",
       "      <td>0.852937</td>\n",
       "      <td>0.884994</td>\n",
       "    </tr>\n",
       "    <tr>\n",
       "      <th>3</th>\n",
       "      <td>Naive Bayes</td>\n",
       "      <td>0.877993</td>\n",
       "      <td>0.938374</td>\n",
       "      <td>0.824912</td>\n",
       "      <td>0.869542</td>\n",
       "    </tr>\n",
       "    <tr>\n",
       "      <th>5</th>\n",
       "      <td>K-Means</td>\n",
       "      <td>0.439759</td>\n",
       "      <td>0.448748</td>\n",
       "      <td>0.431124</td>\n",
       "      <td>0.428044</td>\n",
       "    </tr>\n",
       "  </tbody>\n",
       "</table>\n",
       "</div>"
      ],
      "text/plain": [
       "                     Model  F1 score  Recall score  Precision score  \\\n",
       "4            Decision Tree  0.948124      0.974643         0.923010   \n",
       "0                      KNN  0.942328      0.961734         0.923690   \n",
       "6                      MLP  0.926782      0.952205         0.902681   \n",
       "2  Support Vector Machines  0.893080      0.913324         0.873714   \n",
       "1      Logistic Regression  0.890049      0.930536         0.852937   \n",
       "3              Naive Bayes  0.877993      0.938374         0.824912   \n",
       "5                  K-Means  0.439759      0.448748         0.431124   \n",
       "\n",
       "   Accuracy score  \n",
       "4        0.946648  \n",
       "0        0.941113  \n",
       "6        0.924739  \n",
       "2        0.890606  \n",
       "1        0.884994  \n",
       "3        0.869542  \n",
       "5        0.428044  "
      ]
     },
     "execution_count": 12,
     "metadata": {},
     "output_type": "execute_result"
    }
   ],
   "source": [
    "models_results = pd.DataFrame({\n",
    "    'Model':\n",
    "        ['KNN', 'Logistic Regression', 'Support Vector Machines', 'Naive Bayes', 'Decision Tree', 'K-Means', 'MLP'],\n",
    "    'F1 score':\n",
    "        [f1_score(y_test, knn_pred), f1_score(y_test, lr_pred), f1_score(y_test, svc_pred), f1_score(y_test, nb_pred), f1_score(y_test, dt_pred), f1_score(y_test, kmeans_pred), f1_score(y_test, predictions)],\n",
    "    'Recall score':\n",
    "        [recall_score(y_test, knn_pred), recall_score(y_test, lr_pred), recall_score(y_test, svc_pred), recall_score(y_test, nb_pred), recall_score(y_test, dt_pred), recall_score(y_test, kmeans_pred), recall_score(y_test, predictions)],\n",
    "    'Precision score':\n",
    "        [precision_score(y_test, knn_pred), precision_score(y_test, lr_pred), precision_score(y_test, svc_pred), precision_score(y_test, nb_pred), precision_score(y_test, dt_pred), precision_score(y_test, kmeans_pred), precision_score(y_test, predictions)],\n",
    "    'Accuracy score':\n",
    "        [accuracy_score(y_test, knn_pred), accuracy_score(y_test, lr_pred), accuracy_score(y_test, svc_pred), accuracy_score(y_test, nb_pred), accuracy_score(y_test, dt_pred), accuracy_score(y_test, kmeans_pred), accuracy_score(y_test, predictions)]\n",
    "})\n",
    "models_results = models_results.sort_values(by='F1 score', ascending=False)\n",
    "\n",
    "models_results"
   ]
  },
  {
   "cell_type": "code",
   "execution_count": 13,
   "metadata": {},
   "outputs": [
    {
     "data": {
      "image/png": "[encoded data removed]",
      "text/plain": [
       "<Figure size 1000x600 with 1 Axes>"
      ]
     },
     "metadata": {},
     "output_type": "display_data"
    }
   ],
   "source": [
    "plt.figure(figsize=(10, 6))\n",
    "sns.barplot(x='F1 score', y='Model', data=models_results, palette='Blues_d')\n",
    "plt.title('F1 Score of Models')\n",
    "plt.show()"
   ]
  },
  {
   "cell_type": "code",
   "execution_count": null,
   "metadata": {},
   "outputs": [],
   "source": []
  }
 ],
 "metadata": {
  "kernelspec": {
   "display_name": "lmappshow",
   "language": "python",
   "name": "python3"
  },
  "language_info": {
   "codemirror_mode": {
    "name": "ipython",
    "version": 3
   },
   "file_extension": ".py",
   "mimetype": "text/x-python",
   "name": "python",
   "nbconvert_exporter": "python",
   "pygments_lexer": "ipython3",
   "version": "3.9.16"
  },
  "orig_nbformat": 4
 },
 "nbformat": 4,
 "nbformat_minor": 2
}
