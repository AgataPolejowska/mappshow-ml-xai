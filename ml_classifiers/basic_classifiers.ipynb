{
 "cells": [
  {
   "cell_type": "code",
   "execution_count": 20,
   "metadata": {},
   "outputs": [
    {
     "name": "stdout",
     "output_type": "stream",
     "text": [
      "<class 'pandas.core.frame.DataFrame'>\n",
      "RangeIndex: 110521 entries, 0 to 110520\n",
      "Data columns (total 16 columns):\n",
      " #   Column                Non-Null Count   Dtype\n",
      "---  ------                --------------   -----\n",
      " 0   Gender                110521 non-null  int64\n",
      " 1   Scholarship           110521 non-null  int64\n",
      " 2   Hypertension          110521 non-null  int64\n",
      " 3   Diabetes              110521 non-null  int64\n",
      " 4   Alcoholism            110521 non-null  int64\n",
      " 5   Handicap              110521 non-null  int64\n",
      " 6   SMS_received          110521 non-null  int64\n",
      " 7   Show                  110521 non-null  int64\n",
      " 8   ScheduledHour         110521 non-null  int64\n",
      " 9   ScheduledMonth        110521 non-null  int64\n",
      " 10  AppointmentMonth      110521 non-null  int64\n",
      " 11  ScheduledDayOfWeek    110521 non-null  int64\n",
      " 12  AppointmentDayOfWeek  110521 non-null  int64\n",
      " 13  AgeGroupInt           110521 non-null  int64\n",
      " 14  NeighbourhoodInt      110521 non-null  int64\n",
      " 15  AwaitingTimeGroup     110521 non-null  int64\n",
      "dtypes: int64(16)\n",
      "memory usage: 13.5 MB\n"
     ]
    }
   ],
   "source": [
    "import pandas as pd\n",
    "\n",
    "from sklearn.metrics import accuracy_score, f1_score, recall_score, precision_score\n",
    "from sklearn.model_selection import train_test_split\n",
    "from sklearn.neighbors import KNeighborsClassifier\n",
    "from sklearn.tree import DecisionTreeClassifier\n",
    "from sklearn.cluster import KMeans\n",
    "from sklearn.neural_network import MLPClassifier\n",
    "from sklearn.svm import SVC\n",
    "from sklearn.naive_bayes import GaussianNB\n",
    "from sklearn.linear_model import LogisticRegression\n",
    "\n",
    "from imblearn.under_sampling import InstanceHardnessThreshold\n",
    "\n",
    "from yellowbrick.model_selection import FeatureImportances\n",
    "\n",
    "import matplotlib.pyplot as plt\n",
    "import seaborn as sns\n",
    "\n",
    "\n",
    "df = pd.read_csv('../data/cleaned_data_2.csv')\n",
    "df.info()"
   ]
  },
  {
   "cell_type": "code",
   "execution_count": 2,
   "metadata": {},
   "outputs": [],
   "source": [
    "X = df.drop(['Show'], axis=1)\n",
    "y = df['Show']\n",
    "\n",
    "iht = InstanceHardnessThreshold(random_state=42)\n",
    "X_res, y_res = iht.fit_resample(X, y)"
   ]
  },
  {
   "cell_type": "code",
   "execution_count": 3,
   "metadata": {},
   "outputs": [],
   "source": [
    "X_train, X_test, y_train, y_test = train_test_split(X_res, y_res, test_size=0.3, random_state=42)"
   ]
  },
  {
   "cell_type": "code",
   "execution_count": 21,
   "metadata": {},
   "outputs": [
    {
     "name": "stdout",
     "output_type": "stream",
     "text": [
      "Accuracy:  0.8254989399809928\n",
      "F1:  0.8431153466973381\n",
      "Recall:  0.9215517241379311\n",
      "Precision:  0.7769836462749848\n"
     ]
    }
   ],
   "source": [
    "nb_clf = GaussianNB()\n",
    "\n",
    "nb_clf.fit(X_train, y_train)\n",
    "\n",
    "nb_pred = nb_clf.predict(X_test)\n",
    "\n",
    "print('Accuracy: ', accuracy_score(y_test, nb_pred))\n",
    "print('F1: ', f1_score(y_test, nb_pred))\n",
    "print('Recall: ', recall_score(y_test, nb_pred))\n",
    "print('Precision: ', precision_score(y_test, nb_pred))"
   ]
  },
  {
   "cell_type": "code",
   "execution_count": 22,
   "metadata": {},
   "outputs": [
    {
     "name": "stdout",
     "output_type": "stream",
     "text": [
      "Accuracy:  0.8407778346370348\n",
      "F1:  0.8582400416558188\n",
      "Recall:  0.9472701149425288\n",
      "Precision:  0.7845073774393146\n"
     ]
    },
    {
     "name": "stderr",
     "output_type": "stream",
     "text": [
      "/opt/miniconda3/envs/lmappshow/lib/python3.9/site-packages/sklearn/linear_model/_logistic.py:458: ConvergenceWarning: lbfgs failed to converge (status=1):\n",
      "STOP: TOTAL NO. of ITERATIONS REACHED LIMIT.\n",
      "\n",
      "Increase the number of iterations (max_iter) or scale the data as shown in:\n",
      "    https://scikit-learn.org/stable/modules/preprocessing.html\n",
      "Please also refer to the documentation for alternative solver options:\n",
      "    https://scikit-learn.org/stable/modules/linear_model.html#logistic-regression\n",
      "  n_iter_i = _check_optimize_result(\n"
     ]
    }
   ],
   "source": [
    "lr_clf = LogisticRegression()\n",
    "\n",
    "lr_clf.fit(X_train, y_train)\n",
    "\n",
    "lr_pred = lr_clf.predict(X_test)\n",
    "\n",
    "print('Accuracy: ', accuracy_score(y_test, lr_pred))\n",
    "print('F1: ', f1_score(y_test, lr_pred))\n",
    "print('Recall: ', recall_score(y_test, lr_pred))\n",
    "print('Precision: ', precision_score(y_test, lr_pred))"
   ]
  },
  {
   "cell_type": "code",
   "execution_count": 23,
   "metadata": {},
   "outputs": [
    {
     "name": "stdout",
     "output_type": "stream",
     "text": [
      "Accuracy:  0.832297682579136\n",
      "F1:  0.8534934218929622\n",
      "Recall:  0.9600574712643678\n",
      "Precision:  0.7682225799034261\n"
     ]
    }
   ],
   "source": [
    "svc_clf = SVC()\n",
    "\n",
    "svc_clf.fit(X_train, y_train)\n",
    "\n",
    "svc_pred = svc_clf.predict(X_test)\n",
    "\n",
    "print('Accuracy: ', accuracy_score(y_test, svc_pred))\n",
    "print('F1: ', f1_score(y_test, svc_pred))\n",
    "print('Recall: ', recall_score(y_test, svc_pred))\n",
    "print('Precision: ', precision_score(y_test, svc_pred))"
   ]
  },
  {
   "cell_type": "code",
   "execution_count": 16,
   "metadata": {},
   "outputs": [
    {
     "name": "stdout",
     "output_type": "stream",
     "text": [
      "Iteration 1, loss = 0.61313336\n",
      "Iteration 2, loss = 0.51214836\n",
      "Iteration 3, loss = 0.45809827\n",
      "Iteration 4, loss = 0.44194501\n",
      "Iteration 5, loss = 0.42358408\n",
      "Iteration 6, loss = 0.41643517\n",
      "Iteration 7, loss = 0.40255437\n",
      "Iteration 8, loss = 0.38640202\n",
      "Iteration 9, loss = 0.38184181\n",
      "Iteration 10, loss = 0.36622233\n",
      "Iteration 11, loss = 0.35288361\n",
      "Iteration 12, loss = 0.34521961\n",
      "Iteration 13, loss = 0.33702138\n",
      "Iteration 14, loss = 0.32821020\n",
      "Iteration 15, loss = 0.32238675\n",
      "Iteration 16, loss = 0.31797645\n",
      "Iteration 17, loss = 0.31621142\n",
      "Iteration 18, loss = 0.31407316\n",
      "Iteration 19, loss = 0.30904955\n",
      "Iteration 20, loss = 0.30608742\n",
      "Iteration 21, loss = 0.30332689\n",
      "Iteration 22, loss = 0.30320403\n",
      "Iteration 23, loss = 0.30440081\n",
      "Iteration 24, loss = 0.30037921\n",
      "Iteration 25, loss = 0.29798410\n",
      "Iteration 26, loss = 0.29906115\n",
      "Iteration 27, loss = 0.29527914\n",
      "Iteration 28, loss = 0.29511398\n",
      "Iteration 29, loss = 0.29471618\n",
      "Iteration 30, loss = 0.29379796\n",
      "Iteration 31, loss = 0.29237148\n",
      "Iteration 32, loss = 0.29312065\n",
      "Iteration 33, loss = 0.28917920\n",
      "Iteration 34, loss = 0.28752240\n",
      "Iteration 35, loss = 0.28904148\n",
      "Iteration 36, loss = 0.28700865\n",
      "Iteration 37, loss = 0.28672426\n",
      "Iteration 38, loss = 0.28741032\n",
      "Iteration 39, loss = 0.28628279\n",
      "Iteration 40, loss = 0.28397005\n",
      "Iteration 41, loss = 0.28287833\n",
      "Iteration 42, loss = 0.28583343\n",
      "Iteration 43, loss = 0.28441366\n",
      "Iteration 44, loss = 0.28229584\n",
      "Iteration 45, loss = 0.28099118\n",
      "Iteration 46, loss = 0.27947450\n",
      "Iteration 47, loss = 0.28400608\n",
      "Iteration 48, loss = 0.28163210\n",
      "Iteration 49, loss = 0.27813888\n",
      "Iteration 50, loss = 0.28028613\n",
      "Iteration 51, loss = 0.27975907\n",
      "Iteration 52, loss = 0.27954970\n",
      "Iteration 53, loss = 0.27819378\n",
      "Iteration 54, loss = 0.27870930\n",
      "Iteration 55, loss = 0.27911780\n",
      "Iteration 56, loss = 0.27480480\n",
      "Iteration 57, loss = 0.27508292\n",
      "Iteration 58, loss = 0.27396199\n",
      "Iteration 59, loss = 0.27513444\n",
      "Iteration 60, loss = 0.27443759\n",
      "Iteration 61, loss = 0.27355219\n",
      "Iteration 62, loss = 0.27556142\n",
      "Iteration 63, loss = 0.27419737\n",
      "Iteration 64, loss = 0.27901223\n",
      "Iteration 65, loss = 0.27859836\n",
      "Iteration 66, loss = 0.27469453\n",
      "Iteration 67, loss = 0.27116609\n",
      "Iteration 68, loss = 0.27214676\n",
      "Iteration 69, loss = 0.27209489\n",
      "Iteration 70, loss = 0.27297570\n",
      "Iteration 71, loss = 0.27236797\n",
      "Iteration 72, loss = 0.27834604\n",
      "Iteration 73, loss = 0.27029390\n",
      "Iteration 74, loss = 0.27127187\n",
      "Iteration 75, loss = 0.27116364\n",
      "Iteration 76, loss = 0.27184295\n",
      "Iteration 77, loss = 0.26982694\n",
      "Iteration 78, loss = 0.26928759\n",
      "Iteration 79, loss = 0.26909230\n",
      "Iteration 80, loss = 0.27408480\n",
      "Iteration 81, loss = 0.27211652\n",
      "Iteration 82, loss = 0.26924776\n",
      "Iteration 83, loss = 0.26927923\n",
      "Iteration 84, loss = 0.27153060\n",
      "Iteration 85, loss = 0.26877295\n",
      "Iteration 86, loss = 0.26640481\n",
      "Iteration 87, loss = 0.27072037\n",
      "Iteration 88, loss = 0.26705111\n",
      "Iteration 89, loss = 0.26913647\n",
      "Iteration 90, loss = 0.26707582\n",
      "Iteration 91, loss = 0.26952242\n",
      "Iteration 92, loss = 0.26705406\n",
      "Iteration 93, loss = 0.26998032\n",
      "Iteration 94, loss = 0.26993737\n",
      "Iteration 95, loss = 0.26540867\n",
      "Iteration 96, loss = 0.26518627\n",
      "Iteration 97, loss = 0.26632918\n",
      "Iteration 98, loss = 0.27249556\n",
      "Iteration 99, loss = 0.26712733\n",
      "Iteration 100, loss = 0.26625142\n",
      "Iteration 101, loss = 0.26566209\n",
      "Iteration 102, loss = 0.26609621\n",
      "Iteration 103, loss = 0.26605598\n",
      "Iteration 104, loss = 0.26490778\n",
      "Iteration 105, loss = 0.26490532\n",
      "Iteration 106, loss = 0.27000020\n",
      "Iteration 107, loss = 0.26714003\n",
      "Iteration 108, loss = 0.26740590\n",
      "Iteration 109, loss = 0.26982261\n",
      "Iteration 110, loss = 0.26625497\n",
      "Iteration 111, loss = 0.26324384\n",
      "Iteration 112, loss = 0.26334509\n",
      "Iteration 113, loss = 0.26251280\n",
      "Iteration 114, loss = 0.26321883\n",
      "Iteration 115, loss = 0.26488825\n",
      "Iteration 116, loss = 0.26468340\n",
      "Iteration 117, loss = 0.26705509\n",
      "Iteration 118, loss = 0.26426773\n",
      "Iteration 119, loss = 0.27092794\n",
      "Iteration 120, loss = 0.26453418\n",
      "Iteration 121, loss = 0.26407060\n",
      "Iteration 122, loss = 0.26420214\n",
      "Iteration 123, loss = 0.26430369\n",
      "Iteration 124, loss = 0.26287370\n",
      "Training loss did not improve more than tol=0.000000 for 10 consecutive epochs. Stopping.\n",
      "Accuracy:  0.9127129176109364\n",
      "F1:  0.9157017791584297\n",
      "Recall:  0.9317528735632183\n",
      "Precision:  0.9001943364797335\n"
     ]
    }
   ],
   "source": [
    "mlp = MLPClassifier(\n",
    "    hidden_layer_sizes=(100, 100, 100),\n",
    "    max_iter=500,\n",
    "    alpha=0.0001,\n",
    "    solver='sgd',\n",
    "    random_state=21,\n",
    "    tol=0.000000001\n",
    ")\n",
    "\n",
    "mlp.fit(X_train, y_train)\n",
    "predictions = mlp.predict(X_test)\n",
    "\n",
    "print(\"Accuracy: \", accuracy_score(y_test, predictions))\n",
    "print(\"F1: \", f1_score(y_test, predictions))\n",
    "print(\"Recall: \", recall_score(y_test, predictions))\n",
    "print(\"Precision: \", precision_score(y_test, predictions))"
   ]
  },
  {
   "cell_type": "code",
   "execution_count": 27,
   "metadata": {},
   "outputs": [
    {
     "name": "stdout",
     "output_type": "stream",
     "text": [
      "Accuracy:  0.46860150595803785\n",
      "F1:  0.371248161923709\n",
      "Recall:  0.30833333333333335\n",
      "Precision:  0.4664203434036079\n"
     ]
    },
    {
     "name": "stderr",
     "output_type": "stream",
     "text": [
      "/opt/miniconda3/envs/lmappshow/lib/python3.9/site-packages/sklearn/cluster/_kmeans.py:870: FutureWarning: The default value of `n_init` will change from 10 to 'auto' in 1.4. Set the value of `n_init` explicitly to suppress the warning\n",
      "  warnings.warn(\n"
     ]
    }
   ],
   "source": [
    "kmeans_cls = KMeans(n_clusters=2, random_state=42)\n",
    "\n",
    "kmeans_cls.fit(X_train, y_train)\n",
    "\n",
    "kmeans_pred = kmeans_cls.predict(X_test)\n",
    "\n",
    "print('Accuracy: ', accuracy_score(y_test, kmeans_pred))\n",
    "print('F1: ', f1_score(y_test, kmeans_pred))\n",
    "print('Recall: ', recall_score(y_test, kmeans_pred))\n",
    "print('Precision: ', precision_score(y_test, kmeans_pred))"
   ]
  },
  {
   "cell_type": "code",
   "execution_count": 28,
   "metadata": {},
   "outputs": [
    {
     "name": "stdout",
     "output_type": "stream",
     "text": [
      "Accuracy Score:  0.8513780247094086\n",
      "F1 Score:  0.867080745341615\n",
      "Recall Score:  0.9527298850574712\n",
      "Precision Score:  0.7955608878224355\n"
     ]
    }
   ],
   "source": [
    "knn_cls = KNeighborsClassifier(n_neighbors=5)\n",
    "knn_cls.fit(X_train, y_train)\n",
    "\n",
    "knn_pred = knn_cls.predict(X_test)\n",
    "\n",
    "print('Accuracy Score: ', accuracy_score(y_test, knn_pred))\n",
    "print('F1 Score: ', f1_score(y_test, knn_pred))\n",
    "print('Recall Score: ', recall_score(y_test, knn_pred))\n",
    "print('Precision Score: ', precision_score(y_test, knn_pred))"
   ]
  },
  {
   "cell_type": "code",
   "execution_count": 26,
   "metadata": {},
   "outputs": [
    {
     "name": "stdout",
     "output_type": "stream",
     "text": [
      "Accuracy Score:  0.9056948607354339\n",
      "F1 Score:  0.9088854357960163\n",
      "Recall Score:  0.9244252873563218\n",
      "Precision Score:  0.8938594053903862\n"
     ]
    }
   ],
   "source": [
    "dt_cls = DecisionTreeClassifier(random_state=42)\n",
    "dt_cls.fit(X_train, y_train)\n",
    "\n",
    "dt_pred = dt_cls.predict(X_test)\n",
    "\n",
    "print('Accuracy Score: ', accuracy_score(y_test, dt_pred))\n",
    "print('F1 Score: ', f1_score(y_test, dt_pred))\n",
    "print('Recall Score: ', recall_score(y_test, dt_pred))\n",
    "print('Precision Score: ', precision_score(y_test, dt_pred))"
   ]
  },
  {
   "cell_type": "code",
   "execution_count": 9,
   "metadata": {},
   "outputs": [
    {
     "name": "stderr",
     "output_type": "stream",
     "text": [
      "/opt/miniconda3/envs/lmappshow/lib/python3.9/site-packages/sklearn/base.py:439: UserWarning: X does not have valid feature names, but DecisionTreeClassifier was fitted with feature names\n",
      "  warnings.warn(\n"
     ]
    },
    {
     "data": {
      "image/png": "[encoded data removed]",
      "text/plain": [
       "<Figure size 1080x720 with 1 Axes>"
      ]
     },
     "metadata": {},
     "output_type": "display_data"
    },
    {
     "data": {
      "text/plain": [
       "<Axes: title={'center': 'Feature Importances of 15 Features using DecisionTreeClassifier'}, xlabel='feature importance'>"
      ]
     },
     "execution_count": 9,
     "metadata": {},
     "output_type": "execute_result"
    }
   ],
   "source": [
    "viz = FeatureImportances(\n",
    "    dt_cls,\n",
    "    size=(1080, 720),\n",
    "    max_num_features=10,\n",
    "    relative=False,\n",
    "    colormap='Blues',\n",
    ")\n",
    "viz.fit(X_train, y_train)\n",
    "viz.show()"
   ]
  },
  {
   "cell_type": "code",
   "execution_count": 35,
   "metadata": {},
   "outputs": [
    {
     "data": {
      "text/html": [
       "<div>\n",
       "<style scoped>\n",
       "    .dataframe tbody tr th:only-of-type {\n",
       "        vertical-align: middle;\n",
       "    }\n",
       "\n",
       "    .dataframe tbody tr th {\n",
       "        vertical-align: top;\n",
       "    }\n",
       "\n",
       "    .dataframe thead th {\n",
       "        text-align: right;\n",
       "    }\n",
       "</style>\n",
       "<table border=\"1\" class=\"dataframe\">\n",
       "  <thead>\n",
       "    <tr style=\"text-align: right;\">\n",
       "      <th></th>\n",
       "      <th>Model</th>\n",
       "      <th>Accuracy score</th>\n",
       "    </tr>\n",
       "  </thead>\n",
       "  <tbody>\n",
       "    <tr>\n",
       "      <th>6</th>\n",
       "      <td>Neural Network</td>\n",
       "      <td>0.912713</td>\n",
       "    </tr>\n",
       "    <tr>\n",
       "      <th>4</th>\n",
       "      <td>Decision Tree</td>\n",
       "      <td>0.905695</td>\n",
       "    </tr>\n",
       "    <tr>\n",
       "      <th>0</th>\n",
       "      <td>KNN</td>\n",
       "      <td>0.851378</td>\n",
       "    </tr>\n",
       "    <tr>\n",
       "      <th>1</th>\n",
       "      <td>Logistic Regression</td>\n",
       "      <td>0.840778</td>\n",
       "    </tr>\n",
       "    <tr>\n",
       "      <th>2</th>\n",
       "      <td>Support Vector Machines</td>\n",
       "      <td>0.832298</td>\n",
       "    </tr>\n",
       "    <tr>\n",
       "      <th>3</th>\n",
       "      <td>Naive Bayes</td>\n",
       "      <td>0.825499</td>\n",
       "    </tr>\n",
       "    <tr>\n",
       "      <th>5</th>\n",
       "      <td>K-Means</td>\n",
       "      <td>0.468602</td>\n",
       "    </tr>\n",
       "  </tbody>\n",
       "</table>\n",
       "</div>"
      ],
      "text/plain": [
       "                     Model  Accuracy score\n",
       "6           Neural Network        0.912713\n",
       "4            Decision Tree        0.905695\n",
       "0                      KNN        0.851378\n",
       "1      Logistic Regression        0.840778\n",
       "2  Support Vector Machines        0.832298\n",
       "3              Naive Bayes        0.825499\n",
       "5                  K-Means        0.468602"
      ]
     },
     "execution_count": 35,
     "metadata": {},
     "output_type": "execute_result"
    }
   ],
   "source": [
    "models_results = pd.DataFrame({\n",
    "    'Model':\n",
    "        ['KNN', 'Logistic Regression', 'Support Vector Machines', 'Naive Bayes', 'Decision Tree', 'K-Means', 'Neural Network'],\n",
    "    'Accuracy score': \n",
    "        [accuracy_score(y_test, knn_pred), accuracy_score(y_test, lr_pred), accuracy_score(y_test, svc_pred), accuracy_score(y_test, nb_pred), accuracy_score(y_test, dt_pred), accuracy_score(y_test, kmeans_pred), accuracy_score(y_test, predictions)]})\n",
    "\n",
    "models_results = models_results.sort_values(by='Accuracy score', ascending=False)\n",
    "\n",
    "models_results"
   ]
  },
  {
   "cell_type": "code",
   "execution_count": 37,
   "metadata": {},
   "outputs": [
    {
     "data": {
      "image/png": "[encoded data removed]",
      "text/plain": [
       "<Figure size 1000x600 with 1 Axes>"
      ]
     },
     "metadata": {},
     "output_type": "display_data"
    }
   ],
   "source": [
    "plt.figure(figsize=(10, 6))\n",
    "sns.barplot(x='Accuracy score', y='Model', data=models_results)\n",
    "plt.title('Accuracy score of the models')\n",
    "plt.show()\n"
   ]
  },
  {
   "cell_type": "code",
   "execution_count": null,
   "metadata": {},
   "outputs": [],
   "source": []
  }
 ],
 "metadata": {
  "kernelspec": {
   "display_name": "lmappshow",
   "language": "python",
   "name": "python3"
  },
  "language_info": {
   "codemirror_mode": {
    "name": "ipython",
    "version": 3
   },
   "file_extension": ".py",
   "mimetype": "text/x-python",
   "name": "python",
   "nbconvert_exporter": "python",
   "pygments_lexer": "ipython3",
   "version": "3.9.16"
  },
  "orig_nbformat": 4
 },
 "nbformat": 4,
 "nbformat_minor": 2
}
