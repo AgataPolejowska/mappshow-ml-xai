{
 "cells": [
  {
   "attachments": {},
   "cell_type": "markdown",
   "metadata": {},
   "source": [
    "## 🩺 👩🏼‍⚕️ 👨🏼‍⚕️ Glass-box classifiers for predicting no-show appointments 👩🏼‍💼 👨🏼‍💼"
   ]
  },
  {
   "cell_type": "code",
   "execution_count": 1,
   "metadata": {},
   "outputs": [],
   "source": [
    "from collections import Counter\n",
    "\n",
    "import pandas as pd\n",
    "import numpy as np\n",
    "import matplotlib.pyplot as plt\n",
    "import seaborn as sns\n",
    "\n",
    "from sklearn.model_selection import train_test_split\n",
    "\n",
    "from sklearn.metrics import accuracy_score, f1_score, recall_score, precision_score\n",
    "\n",
    "from sklearn.inspection import PartialDependenceDisplay\n",
    "\n",
    "from imblearn.under_sampling import InstanceHardnessThreshold\n",
    "\n",
    "from interpret.blackbox import LimeTabular\n",
    "from interpret import show\n",
    "import shap\n",
    "\n",
    "from yellowbrick.model_selection import FeatureImportances\n",
    "\n",
    "import wandb"
   ]
  },
  {
   "cell_type": "code",
   "execution_count": 2,
   "metadata": {},
   "outputs": [
    {
     "name": "stdout",
     "output_type": "stream",
     "text": [
      "<class 'pandas.core.frame.DataFrame'>\n",
      "RangeIndex: 110521 entries, 0 to 110520\n",
      "Data columns (total 16 columns):\n",
      " #   Column                Non-Null Count   Dtype\n",
      "---  ------                --------------   -----\n",
      " 0   Gender                110521 non-null  int64\n",
      " 1   Scholarship           110521 non-null  int64\n",
      " 2   Hypertension          110521 non-null  int64\n",
      " 3   Diabetes              110521 non-null  int64\n",
      " 4   Alcoholism            110521 non-null  int64\n",
      " 5   Handicap              110521 non-null  int64\n",
      " 6   SMS_received          110521 non-null  int64\n",
      " 7   Show                  110521 non-null  int64\n",
      " 8   ScheduledHour         110521 non-null  int64\n",
      " 9   ScheduledMonth        110521 non-null  int64\n",
      " 10  AppointmentMonth      110521 non-null  int64\n",
      " 11  ScheduledDayOfWeek    110521 non-null  int64\n",
      " 12  AppointmentDayOfWeek  110521 non-null  int64\n",
      " 13  AgeGroupInt           110521 non-null  int64\n",
      " 14  NeighbourhoodInt      110521 non-null  int64\n",
      " 15  AwaitingTimeGroup     110521 non-null  int64\n",
      "dtypes: int64(16)\n",
      "memory usage: 13.5 MB\n"
     ]
    }
   ],
   "source": [
    "df = pd.read_csv('../data/cleaned_data_final.csv')\n",
    "df.info()"
   ]
  },
  {
   "cell_type": "code",
   "execution_count": 3,
   "metadata": {},
   "outputs": [],
   "source": [
    "X = df.drop(['Show'], axis=1)\n",
    "y = df['Show']"
   ]
  },
  {
   "cell_type": "markdown",
   "metadata": {},
   "source": [
    "##### ⚖️ IHT for imbalanced data\n",
    "\n",
    "This approach is inspired by the paper Batool, Tasneem, et al. \"Predicting hospital no-shows using machine learning.\" 2020 IEEE International Conference on Internet of Things and Intelligence System (IoTaIS). IEEE, 2021."
   ]
  },
  {
   "cell_type": "code",
   "execution_count": 4,
   "metadata": {},
   "outputs": [],
   "source": [
    "iht = InstanceHardnessThreshold(random_state=42)\n",
    "X_res, y_res = iht.fit_resample(X, y)"
   ]
  },
  {
   "cell_type": "code",
   "execution_count": null,
   "metadata": {},
   "outputs": [],
   "source": [
    "X_train, X_test, y_train, y_test = train_test_split(X_res, y_res, test_size=0.3, random_state=42)"
   ]
  }
 ],
 "metadata": {
  "kernelspec": {
   "display_name": "lmappshow",
   "language": "python",
   "name": "python3"
  },
  "language_info": {
   "codemirror_mode": {
    "name": "ipython",
    "version": 3
   },
   "file_extension": ".py",
   "mimetype": "text/x-python",
   "name": "python",
   "nbconvert_exporter": "python",
   "pygments_lexer": "ipython3",
   "version": "3.9.16"
  },
  "orig_nbformat": 4
 },
 "nbformat": 4,
 "nbformat_minor": 2
}
