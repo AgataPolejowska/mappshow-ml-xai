{
 "cells": [
  {
   "attachments": {},
   "cell_type": "markdown",
   "metadata": {},
   "source": [
    "### TabNet: Attentive Interpretable Tabular Learning\n",
    "\n",
    "https://github.com/dreamquark-ai/tabnet\n",
    "\n",
    "This model uses sequential attention to learn which features to focus on. "
   ]
  },
  {
   "cell_type": "code",
   "execution_count": 12,
   "metadata": {},
   "outputs": [],
   "source": [
    "import pandas as pd\n",
    "from pytorch_tabnet.tab_model import TabNetClassifier\n",
    "from imblearn.under_sampling import InstanceHardnessThreshold\n",
    "from sklearn.model_selection import train_test_split\n",
    "from sklearn.metrics import accuracy_score\n",
    "import torch"
   ]
  },
  {
   "cell_type": "code",
   "execution_count": 15,
   "metadata": {},
   "outputs": [],
   "source": [
    "df = pd.read_csv('data/cleaned_data_2.csv')\n",
    "\n",
    "X = df.drop(['Show'], axis=1)\n",
    "y = df['Show']"
   ]
  },
  {
   "attachments": {},
   "cell_type": "markdown",
   "metadata": {},
   "source": [
    "#### With IHT"
   ]
  },
  {
   "cell_type": "code",
   "execution_count": 16,
   "metadata": {},
   "outputs": [],
   "source": [
    "iht = InstanceHardnessThreshold(random_state=42)\n",
    "X_res, y_res = iht.fit_resample(X, y)"
   ]
  },
  {
   "cell_type": "code",
   "execution_count": 19,
   "metadata": {},
   "outputs": [],
   "source": [
    "X_train, X_test, y_train, y_test = train_test_split(X_res, y_res, test_size=0.2, random_state=42)\n",
    "X_train, X_val, y_train, y_val = train_test_split(X_train, y_train, test_size=0.2, random_state=42)\n",
    "\n",
    "\n",
    "clf = TabNetClassifier()"
   ]
  },
  {
   "cell_type": "code",
   "execution_count": 20,
   "metadata": {},
   "outputs": [
    {
     "name": "stdout",
     "output_type": "stream",
     "text": [
      "epoch 0  | loss: 0.5173  | train_auc: 0.63971 | valid_auc: 0.63669 |  0:00:03s\n",
      "epoch 1  | loss: 0.42167 | train_auc: 0.57016 | valid_auc: 0.571   |  0:00:07s\n",
      "epoch 2  | loss: 0.39116 | train_auc: 0.67736 | valid_auc: 0.67587 |  0:00:11s\n",
      "epoch 3  | loss: 0.3587  | train_auc: 0.87041 | valid_auc: 0.86862 |  0:00:15s\n",
      "epoch 4  | loss: 0.33307 | train_auc: 0.90827 | valid_auc: 0.90733 |  0:00:19s\n",
      "epoch 5  | loss: 0.30851 | train_auc: 0.92379 | valid_auc: 0.92425 |  0:00:22s\n",
      "epoch 6  | loss: 0.29686 | train_auc: 0.93167 | valid_auc: 0.9309  |  0:00:26s\n",
      "epoch 7  | loss: 0.29046 | train_auc: 0.93486 | valid_auc: 0.93293 |  0:00:30s\n",
      "epoch 8  | loss: 0.28829 | train_auc: 0.93652 | valid_auc: 0.93524 |  0:00:34s\n",
      "epoch 9  | loss: 0.28406 | train_auc: 0.94068 | valid_auc: 0.93886 |  0:00:38s\n",
      "epoch 10 | loss: 0.28286 | train_auc: 0.94194 | valid_auc: 0.94053 |  0:00:42s\n",
      "epoch 11 | loss: 0.28308 | train_auc: 0.94203 | valid_auc: 0.93998 |  0:00:46s\n",
      "epoch 12 | loss: 0.28442 | train_auc: 0.94285 | valid_auc: 0.9412  |  0:00:50s\n",
      "epoch 13 | loss: 0.27997 | train_auc: 0.94363 | valid_auc: 0.94258 |  0:00:54s\n",
      "epoch 14 | loss: 0.27682 | train_auc: 0.94633 | valid_auc: 0.94492 |  0:00:57s\n",
      "Stop training because you reached max_epochs = 15 with best_epoch = 14 and best_valid_auc = 0.94492\n"
     ]
    },
    {
     "name": "stderr",
     "output_type": "stream",
     "text": [
      "/opt/miniconda3/envs/lmappshow/lib/python3.9/site-packages/pytorch_tabnet/callbacks.py:172: UserWarning: Best weights from best epoch are automatically used!\n",
      "  warnings.warn(wrn_msg)\n"
     ]
    }
   ],
   "source": [
    "clf.fit(\n",
    "    X_train=X_train.values,\n",
    "    y_train=y_train.values,\n",
    "    eval_set=[(X_train.values, y_train.values), (X_val.values, y_val.values)],\n",
    "    eval_name=['train', 'valid'],\n",
    "    eval_metric=['auc'],\n",
    "    max_epochs=15,\n",
    "    patience=5,\n",
    ")"
   ]
  },
  {
   "cell_type": "code",
   "execution_count": 21,
   "metadata": {},
   "outputs": [
    {
     "name": "stdout",
     "output_type": "stream",
     "text": [
      "Accuracy:  0.9133771929824561\n"
     ]
    }
   ],
   "source": [
    "y_pred = clf.predict(X_test.values)\n",
    "\n",
    "print('Accuracy: ', accuracy_score(y_test, y_pred))"
   ]
  },
  {
   "attachments": {},
   "cell_type": "markdown",
   "metadata": {},
   "source": [
    "#### Without IHT"
   ]
  },
  {
   "cell_type": "code",
   "execution_count": 22,
   "metadata": {},
   "outputs": [
    {
     "name": "stderr",
     "output_type": "stream",
     "text": [
      "/opt/miniconda3/envs/lmappshow/lib/python3.9/site-packages/pytorch_tabnet/abstract_model.py:75: UserWarning: Device used : cpu\n",
      "  warnings.warn(f\"Device used : {self.device}\")\n"
     ]
    }
   ],
   "source": [
    "X_train, X_test, y_train, y_test = train_test_split(X, y, test_size=0.2, random_state=42)\n",
    "X_train, X_val, y_train, y_val = train_test_split(X_train, y_train, test_size=0.2, random_state=42)\n",
    "\n",
    "\n",
    "clf = TabNetClassifier()"
   ]
  },
  {
   "cell_type": "code",
   "execution_count": 23,
   "metadata": {},
   "outputs": [
    {
     "name": "stdout",
     "output_type": "stream",
     "text": [
      "epoch 0  | loss: 0.49932 | train_auc: 0.59931 | valid_auc: 0.60038 |  0:00:09s\n",
      "epoch 1  | loss: 0.47691 | train_auc: 0.60579 | valid_auc: 0.60744 |  0:00:18s\n",
      "epoch 2  | loss: 0.47471 | train_auc: 0.67692 | valid_auc: 0.6693  |  0:00:27s\n",
      "epoch 3  | loss: 0.47189 | train_auc: 0.68533 | valid_auc: 0.67771 |  0:00:36s\n",
      "epoch 4  | loss: 0.47057 | train_auc: 0.69023 | valid_auc: 0.67912 |  0:00:45s\n",
      "epoch 5  | loss: 0.46648 | train_auc: 0.69921 | valid_auc: 0.68879 |  0:00:54s\n",
      "epoch 6  | loss: 0.46381 | train_auc: 0.70142 | valid_auc: 0.69421 |  0:01:03s\n",
      "epoch 7  | loss: 0.46202 | train_auc: 0.70299 | valid_auc: 0.69509 |  0:01:13s\n",
      "epoch 8  | loss: 0.45842 | train_auc: 0.70937 | valid_auc: 0.69884 |  0:01:22s\n",
      "epoch 9  | loss: 0.4583  | train_auc: 0.70923 | valid_auc: 0.69973 |  0:01:31s\n",
      "epoch 10 | loss: 0.45692 | train_auc: 0.71352 | valid_auc: 0.70347 |  0:01:40s\n",
      "epoch 11 | loss: 0.45793 | train_auc: 0.71085 | valid_auc: 0.7009  |  0:01:49s\n",
      "epoch 12 | loss: 0.459   | train_auc: 0.70764 | valid_auc: 0.69976 |  0:01:58s\n",
      "epoch 13 | loss: 0.45691 | train_auc: 0.71182 | valid_auc: 0.70416 |  0:02:07s\n",
      "epoch 14 | loss: 0.45661 | train_auc: 0.7112  | valid_auc: 0.70422 |  0:02:16s\n",
      "Stop training because you reached max_epochs = 15 with best_epoch = 14 and best_valid_auc = 0.70422\n"
     ]
    },
    {
     "name": "stderr",
     "output_type": "stream",
     "text": [
      "/opt/miniconda3/envs/lmappshow/lib/python3.9/site-packages/pytorch_tabnet/callbacks.py:172: UserWarning: Best weights from best epoch are automatically used!\n",
      "  warnings.warn(wrn_msg)\n"
     ]
    }
   ],
   "source": [
    "clf.fit(\n",
    "    X_train=X_train.values,\n",
    "    y_train=y_train.values,\n",
    "    eval_set=[(X_train.values, y_train.values), (X_val.values, y_val.values)],\n",
    "    eval_name=['train', 'valid'],\n",
    "    eval_metric=['auc'],\n",
    "    max_epochs=15,\n",
    "    patience=5,\n",
    ")"
   ]
  },
  {
   "cell_type": "code",
   "execution_count": 25,
   "metadata": {},
   "outputs": [
    {
     "name": "stdout",
     "output_type": "stream",
     "text": [
      "Accuracy:  0.7971499660710246\n"
     ]
    }
   ],
   "source": [
    "y_pred = clf.predict(X_test.values)\n",
    "\n",
    "print('Accuracy: ', accuracy_score(y_test, y_pred))"
   ]
  },
  {
   "cell_type": "code",
   "execution_count": null,
   "metadata": {},
   "outputs": [],
   "source": []
  }
 ],
 "metadata": {
  "kernelspec": {
   "display_name": "lmappshow",
   "language": "python",
   "name": "python3"
  },
  "language_info": {
   "codemirror_mode": {
    "name": "ipython",
    "version": 3
   },
   "file_extension": ".py",
   "mimetype": "text/x-python",
   "name": "python",
   "nbconvert_exporter": "python",
   "pygments_lexer": "ipython3",
   "version": "3.9.16"
  },
  "orig_nbformat": 4
 },
 "nbformat": 4,
 "nbformat_minor": 2
}
